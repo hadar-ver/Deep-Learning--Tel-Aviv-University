{
 "cells": [
  {
   "cell_type": "code",
   "execution_count": null,
   "metadata": {},
   "outputs": [],
   "source": [
    "import numpy as np"
   ]
  },
  {
   "cell_type": "code",
   "execution_count": null,
   "metadata": {},
   "outputs": [],
   "source": [
    "# Initilize satates:\n",
    "\n",
    "a=np.array([squrt(99)/10,-1/10],[1/10,squrt(99)/10])\n",
    "b=np.array([squrt(2)/2,-2/2],[squrt(2)/2,squrt(2)/2])\n",
    "x0=np.array([1,0])\n",
    "x_est=[x0]\n",
    "\n",
    "sigma1=0.01\n",
    "mean1=0\n",
    "\n",
    "sigma2=0.2\n",
    "mean2=0\n",
    "\n",
    "length=2000\n",
    "train_size=1000\n",
    "test_size=1000"
   ]
  },
  {
   "cell_type": "code",
   "execution_count": null,
   "metadata": {},
   "outputs": [],
   "source": []
  },
  {
   "cell_type": "code",
   "execution_count": null,
   "metadata": {},
   "outputs": [],
   "source": [
    "A"
   ]
  },
  {
   "cell_type": "code",
   "execution_count": null,
   "metadata": {},
   "outputs": [],
   "source": []
  }
 ],
 "metadata": {
  "interpreter": {
   "hash": "7f603db86ac068bcc4bfeb25bac71afe2be701c5bb587e41cc11af299968246d"
  },
  "kernelspec": {
   "display_name": "Python 3.8.8 64-bit ('base': conda)",
   "language": "python",
   "name": "python3"
  },
  "language_info": {
   "name": "python",
   "version": "3.8.8"
  },
  "orig_nbformat": 4
 },
 "nbformat": 4,
 "nbformat_minor": 2
}
