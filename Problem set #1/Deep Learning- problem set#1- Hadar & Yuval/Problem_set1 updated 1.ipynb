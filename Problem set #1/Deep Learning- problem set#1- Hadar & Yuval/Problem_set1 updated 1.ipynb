{
 "cells": [
  {
   "cell_type": "code",
   "execution_count": 2,
   "metadata": {},
   "outputs": [],
   "source": [
    "import pandas as pd\n",
    "import numpy as np\n",
    "import matplotlib.pyplot as plt\n",
    "import sklearn.datasets as dt\n",
    "from sklearn.model_selection import train_test_split\n",
    "import math\n"
   ]
  },
  {
   "cell_type": "markdown",
   "metadata": {},
   "source": [
    "# Question #2\n",
    "Write a Python code to implement forward and backward steps on a neural\n",
    "network.\n",
    "    • The code should support only fully connected layers\n",
    "\n",
    "    • The code should support sigmoid and RelU as non-linearities\n",
    "\n",
    "    • There is no need to get a textual definition of the layers\n",
    "\n",
    "    • You may assume the input given is correct\n",
    "\n",
    "    • You may assume all weights are initialized as a part of the input\n",
    "\n",
    "    • Bonus: support also batch normalization layers\n",
    "    \n",
    "Check your answer to question number 1 using your code.\n"
   ]
  },
  {
   "cell_type": "code",
   "execution_count": 127,
   "metadata": {},
   "outputs": [],
   "source": [
    "X_vector = np.array([1, 2, -1]).reshape(3, 1)\n",
    "y_real = np.array([0])\n",
    "layers = [3, 2, 2, 1]\n",
    "params_w = {}\n",
    "activation=['relu', 'relu', 'linear']\n",
    "l=len(layers)\n",
    "for layer in range(0,l-1):\n",
    "    in_layer_size = layers[layer]\n",
    "    out_layer_size = layers[layer + 1]\n",
    "    params_w['Weight- Layer #:' + str(layer + 1)] = np.ones((out_layer_size, in_layer_size))"
   ]
  },
  {
   "cell_type": "code",
   "execution_count": 129,
   "metadata": {},
   "outputs": [],
   "source": [
    "# -----------------------------------------------------ACTIVATION FUNCTIONS----------------------------------------------------\n",
    "#Sigmoid\n",
    "def sigmoid(x):\n",
    "    return 1.0/(1.0+np.exp(-x))\n",
    "\n",
    "def sigmoid_deriviate(deriviate_init,sigmoid_on_x):\n",
    "    return deriviate_init *sigmoid_on_x*(1 - sigmoid_on_x)\n",
    "\n",
    "#relu activation\n",
    "def relu(x):\n",
    "    return np.maximum(x, 0)\n",
    "\n",
    "def relu_deriviate(deriviate_init,x):\n",
    "    d = np.array(deriviate_init, copy = True)\n",
    "    d[x < 0] = 0.\n",
    "    return d\n",
    "\n",
    "#Linear activation\n",
    "def linear(x):\n",
    "    return x\n",
    "def linear_deriviate(deriviate_init,x):\n",
    "    return 1*deriviate_init\n",
    "\n",
    "# -----------------------------------------------------FEED FORWARD----------------------------------------------------\n",
    "\n",
    "def one_layer_feed_forward(input_activations, weights, activation='relu'):\n",
    "    output = np.dot(weights, input_activations)\n",
    "    if activation == 'relu':\n",
    "        act_out = relu(output)\n",
    "    elif activation == 'linear':\n",
    "        act_out = linear(output)\n",
    "    else:\n",
    "        act_out = sigmoid(output)\n",
    "    \n",
    "    return act_out, output\n",
    "\n",
    "def feed_forward(X, params_w, layers, activate):\n",
    "    acivated_output_dict = {}\n",
    "    output_dict = {}\n",
    "    act_out = X\n",
    "    l=len(layers)\n",
    "    for layer in range(0,l-1):\n",
    "        layer_index = layer + 1\n",
    "        prev_act = act_out\n",
    "        curr_weight = params_w['Weight- Layer #:' + str(layer_index)]\n",
    "        act_out, curr_out = one_layer_feed_forward(prev_act, curr_weight, activate[layer])\n",
    "        acivated_output_dict['Inputs- Layer #:' + str(layer)] = prev_act\n",
    "        output_dict['Outputs- Layer #:' + str(layer_index)] = curr_out\n",
    "\n",
    "    return y_predict, acivated_output_dict, output_dict\n",
    "\n",
    "\n",
    "# -----------------------------------------------------BACKPROPAGATION----------------------------------------------------\n",
    "def one_layer_back_propagation(gradient, curr_weight, curr_out, prev_act, activation='relu'):\n",
    "    if activation == 'relu':\n",
    "        deriviate = relu_deriviate\n",
    "    elif activation == 'linear':\n",
    "        deriviate = linear_deriviate\n",
    "    else:\n",
    "        deriviate = sigmoid_deriviate\n",
    "\n",
    "    activation_deriviate = deriviate(gradient,curr_out)\n",
    "    weight_deriviate = np.dot(activation_deriviate, prev_act.T) / prev_act.shape[1] #devide it by num of sample in previou output\n",
    "    prev_layer_deriviate = np.dot(curr_weight.T, activation_deriviate) #deriviate from prev. layer\n",
    "    return prev_layer_deriviate, weight_deriviate\n",
    "\n",
    "def back_propagation(y_pred, y_real, acivated_output_dict, output_dict, params_w, layers, activate):\n",
    "    delta = {}\n",
    "    n = y_real.shape[0]\n",
    "    y_real = y_real.reshape(y_pred.shape)\n",
    "    prev_layer_deriviate = (-2*np.subtract(y_real, y_pred)).reshape(1, n) # derivative of loss function (RSS)\n",
    "\n",
    "    # num_layers = len(layers) - 1\n",
    "    layer = [x + 1 for x in range(0,len(layers) - 1)]\n",
    "    layer.reverse()\n",
    "\n",
    "    for index, layer in enumerate(layer):\n",
    "        activation = activate[layer - 1]\n",
    "        deriviate_y_predict = prev_layer_deriviate\n",
    "        prev_act = acivated_output_dict['Inputs- Layer #:' + str(layer - 1)]  # activations are one index behind\n",
    "        curr_out = output_dict['Outputs- Layer #:' + str(layer)]\n",
    "        curr_weight = params_w['Weight- Layer #:' + str(layer)]\n",
    "        prev_layer_deriviate, weight_deriviate = one_layer_back_propagation(deriviate_y_predict, curr_weight, curr_out,\n",
    "                                                                         prev_act, activation)\n",
    "        delta['Gradient in weights- Layer #:' + str(layer)] = weight_deriviate\n",
    "\n",
    "    return delta\n"
   ]
  },
  {
   "cell_type": "code",
   "execution_count": 130,
   "metadata": {},
   "outputs": [
    {
     "name": "stdout",
     "output_type": "stream",
     "text": [
      "{'Gradient in weights- Layer #:3': array([[64., 64.]]), 'Gradient in weights- Layer #:2': array([[32., 32.],\n",
      "       [32., 32.]]), 'Gradient in weights- Layer #:1': array([[ 32.,  64., -32.],\n",
      "       [ 32.,  64., -32.]])}\n"
     ]
    }
   ],
   "source": [
    "y_predict, acivated_output_dict, output_dict = feed_forward(X, params_w, layers, activate=activation)\n",
    "weight_gradient = back_propagation(y_predict[0], y_real, acivated_output_dict, output_dict, params_w, layers, activate=activation)\n",
    "print(weight_gradient)"
   ]
  },
  {
   "cell_type": "markdown",
   "metadata": {},
   "source": [
    "# Question #4"
   ]
  },
  {
   "cell_type": "markdown",
   "metadata": {},
   "source": [
    "## a) \n",
    "Prepare the data to check the solution.\n",
    "\n",
    "• X is a set of 10000 points in R4. The points are drawn uniformly in [0, 1]4.\n",
    "\n",
    "• The noise ϵ is i.i.d. and distributed normally with σ2 = 1\n",
    "\n",
    "• Y = X1 − 2X2 + 3X3 − 4X4 + ϵ"
   ]
  },
  {
   "cell_type": "code",
   "execution_count": 140,
   "metadata": {},
   "outputs": [
    {
     "data": {
      "text/html": [
       "<div>\n",
       "<style scoped>\n",
       "    .dataframe tbody tr th:only-of-type {\n",
       "        vertical-align: middle;\n",
       "    }\n",
       "\n",
       "    .dataframe tbody tr th {\n",
       "        vertical-align: top;\n",
       "    }\n",
       "\n",
       "    .dataframe thead th {\n",
       "        text-align: right;\n",
       "    }\n",
       "</style>\n",
       "<table border=\"1\" class=\"dataframe\">\n",
       "  <thead>\n",
       "    <tr style=\"text-align: right;\">\n",
       "      <th></th>\n",
       "      <th>0</th>\n",
       "      <th>1</th>\n",
       "      <th>2</th>\n",
       "      <th>3</th>\n",
       "      <th>4</th>\n",
       "      <th>5</th>\n",
       "    </tr>\n",
       "  </thead>\n",
       "  <tbody>\n",
       "    <tr>\n",
       "      <th>0</th>\n",
       "      <td>0.370028</td>\n",
       "      <td>0.366189</td>\n",
       "      <td>0.679630</td>\n",
       "      <td>0.977529</td>\n",
       "      <td>0.144455</td>\n",
       "      <td>-2.089122</td>\n",
       "    </tr>\n",
       "    <tr>\n",
       "      <th>1</th>\n",
       "      <td>0.572543</td>\n",
       "      <td>0.236666</td>\n",
       "      <td>0.454282</td>\n",
       "      <td>0.370391</td>\n",
       "      <td>-0.326395</td>\n",
       "      <td>-0.345902</td>\n",
       "    </tr>\n",
       "    <tr>\n",
       "      <th>2</th>\n",
       "      <td>0.942748</td>\n",
       "      <td>0.744354</td>\n",
       "      <td>0.732867</td>\n",
       "      <td>0.543704</td>\n",
       "      <td>-0.001074</td>\n",
       "      <td>-0.523250</td>\n",
       "    </tr>\n",
       "    <tr>\n",
       "      <th>3</th>\n",
       "      <td>0.773825</td>\n",
       "      <td>0.402981</td>\n",
       "      <td>0.989639</td>\n",
       "      <td>0.788293</td>\n",
       "      <td>0.661702</td>\n",
       "      <td>0.445310</td>\n",
       "    </tr>\n",
       "    <tr>\n",
       "      <th>4</th>\n",
       "      <td>0.346142</td>\n",
       "      <td>0.635322</td>\n",
       "      <td>0.697407</td>\n",
       "      <td>0.447632</td>\n",
       "      <td>-1.712445</td>\n",
       "      <td>-2.335254</td>\n",
       "    </tr>\n",
       "    <tr>\n",
       "      <th>...</th>\n",
       "      <td>...</td>\n",
       "      <td>...</td>\n",
       "      <td>...</td>\n",
       "      <td>...</td>\n",
       "      <td>...</td>\n",
       "      <td>...</td>\n",
       "    </tr>\n",
       "    <tr>\n",
       "      <th>9995</th>\n",
       "      <td>0.762940</td>\n",
       "      <td>0.140126</td>\n",
       "      <td>0.693435</td>\n",
       "      <td>0.990157</td>\n",
       "      <td>-0.557294</td>\n",
       "      <td>-1.954926</td>\n",
       "    </tr>\n",
       "    <tr>\n",
       "      <th>9996</th>\n",
       "      <td>0.988881</td>\n",
       "      <td>0.938126</td>\n",
       "      <td>0.328672</td>\n",
       "      <td>0.646548</td>\n",
       "      <td>-0.445043</td>\n",
       "      <td>-2.932590</td>\n",
       "    </tr>\n",
       "    <tr>\n",
       "      <th>9997</th>\n",
       "      <td>0.138154</td>\n",
       "      <td>0.146569</td>\n",
       "      <td>0.695032</td>\n",
       "      <td>0.877752</td>\n",
       "      <td>-0.119225</td>\n",
       "      <td>-1.700121</td>\n",
       "    </tr>\n",
       "    <tr>\n",
       "      <th>9998</th>\n",
       "      <td>0.435529</td>\n",
       "      <td>0.173439</td>\n",
       "      <td>0.491458</td>\n",
       "      <td>0.443693</td>\n",
       "      <td>0.035656</td>\n",
       "      <td>-0.176092</td>\n",
       "    </tr>\n",
       "    <tr>\n",
       "      <th>9999</th>\n",
       "      <td>0.860788</td>\n",
       "      <td>0.036982</td>\n",
       "      <td>0.442982</td>\n",
       "      <td>0.876986</td>\n",
       "      <td>-1.268347</td>\n",
       "      <td>-2.660521</td>\n",
       "    </tr>\n",
       "  </tbody>\n",
       "</table>\n",
       "<p>10000 rows × 6 columns</p>\n",
       "</div>"
      ],
      "text/plain": [
       "             0         1         2         3         4         5\n",
       "0     0.370028  0.366189  0.679630  0.977529  0.144455 -2.089122\n",
       "1     0.572543  0.236666  0.454282  0.370391 -0.326395 -0.345902\n",
       "2     0.942748  0.744354  0.732867  0.543704 -0.001074 -0.523250\n",
       "3     0.773825  0.402981  0.989639  0.788293  0.661702  0.445310\n",
       "4     0.346142  0.635322  0.697407  0.447632 -1.712445 -2.335254\n",
       "...        ...       ...       ...       ...       ...       ...\n",
       "9995  0.762940  0.140126  0.693435  0.990157 -0.557294 -1.954926\n",
       "9996  0.988881  0.938126  0.328672  0.646548 -0.445043 -2.932590\n",
       "9997  0.138154  0.146569  0.695032  0.877752 -0.119225 -1.700121\n",
       "9998  0.435529  0.173439  0.491458  0.443693  0.035656 -0.176092\n",
       "9999  0.860788  0.036982  0.442982  0.876986 -1.268347 -2.660521\n",
       "\n",
       "[10000 rows x 6 columns]"
      ]
     },
     "execution_count": 140,
     "metadata": {},
     "output_type": "execute_result"
    }
   ],
   "source": [
    "datapoints = np.random.uniform(0, 1, [10000,4])\n",
    "#The noise ϵ is i.i.d. and distributed normally with σ2 = 1\n",
    "noise = np.random.normal(loc=0.0, scale=1.0, size=[10000])\n",
    "# Y = X1 − 2X2 + 3X3 − 4X4 + ϵ\n",
    "y=datapoints[:,0]-2*datapoints[:,1]+3*datapoints[:,2]-4*datapoints[:,3]+noise \n",
    "\n",
    "full_data = np.column_stack((datapoints, noise,y))\n",
    "full_df=pd.DataFrame(full_data)\n",
    "full_df"
   ]
  },
  {
   "cell_type": "code",
   "execution_count": 141,
   "metadata": {},
   "outputs": [
    {
     "data": {
      "text/plain": [
       "(10000, 4)"
      ]
     },
     "execution_count": 141,
     "metadata": {},
     "output_type": "execute_result"
    }
   ],
   "source": [
    "data=full_df.loc[:,0:3]\n",
    "target=full_df.loc[:,5]\n",
    "data.shape"
   ]
  },
  {
   "cell_type": "markdown",
   "metadata": {},
   "source": [
    "## b) \n",
    "Implement the Gradient Descent (GD) algorithm. The algorithm gets:\n",
    "\n",
    "(i) a step size (learning rate),\n",
    "\n",
    "(ii) an initial solution and\n",
    "\n",
    "(iii) a function that returns the gradient of the RSS in a given point. The GD algorithm starts from an initial guess, and change it iteratively by moving in the opposite direction of the gradient. The algorithm runs a fixed number of iterations or until convergence.\n",
    "\n",
    "The iteration can be written as follows:\n",
    "\n",
    "Wi+1 = Wi − α∇W Loss\n",
    "\n",
    "Where α is the learning rate.\n"
   ]
  },
  {
   "cell_type": "code",
   "execution_count": 142,
   "metadata": {},
   "outputs": [],
   "source": [
    "# General Parameters\n",
    "lr =0.2\n",
    "n_iter = 5000\n",
    "treshold=0.0001"
   ]
  },
  {
   "cell_type": "code",
   "execution_count": 143,
   "metadata": {},
   "outputs": [],
   "source": [
    "# Split into train and test set\n",
    "x_train, x_test, y_train, y_test = train_test_split(data, target, test_size=0.2, random_state=10)\n",
    "y_train = pd.DataFrame(y_train)\n",
    "y_test  = pd.DataFrame(y_test)\n"
   ]
  },
  {
   "cell_type": "code",
   "execution_count": 144,
   "metadata": {},
   "outputs": [],
   "source": [
    "def  cal_cost(w,X,y):\n",
    "    m = len(y)\n",
    "    predictions = X.dot(w)\n",
    "    # cost = (1/2*m) * np.sum(np.square(predictions-y))\n",
    "    cost = np.sum(np.square(predictions-y))\n",
    "    return cost\n",
    "\n",
    "def gradient_descent(X,y,w,learning_rate,iterations, treshold):\n",
    "\n",
    "    m = len(y)\n",
    "    cost_history = np.zeros(iterations)\n",
    "    w_history = np.ones((iterations,5))\n",
    "    it=0\n",
    "    diff=1000\n",
    "    # for it in range (iterations):\n",
    "    while it < iterations and diff>=treshold:\n",
    "        prediction = np.dot(X,w)\n",
    "        # Compute w and devide the gradient by number of samples (to get the Avg. gradient)\n",
    "        w = w -(1/m)*learning_rate*( X.T.dot((prediction - y)))\n",
    "        w_history[it,:] =w.T\n",
    "        diff=abs(w_history[it,:]-w_history[it-1,:]).mean()\n",
    "        cost_history[it]  = cal_cost(w,X,y)\n",
    "        it=it+1\n",
    "        \n",
    "    return diff,it,w, cost_history, w_history"
   ]
  },
  {
   "cell_type": "code",
   "execution_count": 145,
   "metadata": {},
   "outputs": [
    {
     "name": "stdout",
     "output_type": "stream",
     "text": [
      "w0: -0.013,\n",
      "w1: 1.077\n",
      "w2: -2.027\n",
      "w3: 3.016\n",
      "w4: -4.043\n",
      "Final cost/RSS:  7847.790\n",
      "iterations:396.000\n",
      "actual_trashold:  0.000\n"
     ]
    }
   ],
   "source": [
    "w = np.random.randn(5,1)\n",
    "\n",
    "X_b = np.c_[np.ones((len(x_train),1)),x_train]\n",
    "update_diff, actual_iterations,w,cost_history,w_history = gradient_descent(X_b,y_train,w,lr,n_iter,treshold)\n",
    "\n",
    "# Change the size of the cost and thetha history to fit the number of actual iterations (else- it will fill all other cels in zeros which is not true)\n",
    "cost_history = cost_history[0:actual_iterations]\n",
    "w_history = w_history[0:actual_iterations]\n",
    "\n",
    "print('w0: {:0.3f},\\nw1: {:0.3f}\\nw2: {:0.3f}\\nw3: {:0.3f}\\nw4: {:0.3f}'.format(w[0][0],w[1][0],w[2][0],w[3][0],w[4][0]))\n",
    "print('Final cost/RSS:  {:0.3f}'.format(cost_history[-1]))\n",
    "print('iterations:{:0.3f}'.format(actual_iterations))\n",
    "print('actual_trashold:  {:0.3f}'.format(update_diff))\n",
    "\n"
   ]
  },
  {
   "cell_type": "code",
   "execution_count": 146,
   "metadata": {},
   "outputs": [
    {
     "data": {
      "text/plain": [
       "Text(0.5, 1.0, 'Cost function- basic conditions\\n\\nIterations:396 , Cost (RSS): 7848')"
      ]
     },
     "execution_count": 146,
     "metadata": {},
     "output_type": "execute_result"
    },
    {
     "data": {
      "image/png": "[encoded data removed]",
      "text/plain": [
       "<Figure size 432x288 with 1 Axes>"
      ]
     },
     "metadata": {
      "needs_background": "light"
     },
     "output_type": "display_data"
    }
   ],
   "source": [
    "fig,ax = plt.subplots(figsize=(6,4))\n",
    "\n",
    "ax.set_ylabel('Cost')\n",
    "ax.set_xlabel('Iterations')\n",
    "ax.plot(range(actual_iterations),cost_history,'b.')\n",
    "plt.title('Cost function- basic conditions\\n\\n'+'Iterations:' +str(actual_iterations)+' , Cost (RSS): '+ str(round(cost_history[actual_iterations-1])), fontsize=15)\n",
    "\n"
   ]
  },
  {
   "cell_type": "markdown",
   "metadata": {},
   "source": [
    "## C)\n",
    "Check how each of the following changes affect the preformance:\n",
    "\n",
    "• Exponential decay of the step-size\n",
    "\n",
    "• Calculate the gradient in batches, namely, implement Stochastic Gradient Descent.\n",
    "\n",
    "• Change the update step to include momentum, specifically use the folowing update:\n",
    "\n",
    "vi+1 = γvi + α∇W Loss\n",
    "\n",
    "Wi+1 = Wi − vi+1\n",
    "\n",
    "Where γ ∈ (0, 1].\n",
    "\n",
    "**Note:** gamma may also be changed during the algorithm, what would be the impact of increasing it?"
   ]
  },
  {
   "cell_type": "markdown",
   "metadata": {},
   "source": [
    "Change #1-Exponential Decay of Step Size"
   ]
  },
  {
   "cell_type": "code",
   "execution_count": 147,
   "metadata": {},
   "outputs": [],
   "source": [
    "def exp_decay(iteration, lr_history):\n",
    "   initial_lrate = 0.5\n",
    "   lrate = initial_lrate * math.exp(-iteration)\n",
    "   lr_history[iteration] =lrate\n",
    "\n",
    "   return lrate,lr_history\n",
    "\n",
    "def grad_descent_with_exp_decay(X,y,w,iterations, treshold):\n",
    "\n",
    "    m = len(y)\n",
    "    cost_history1 = np.zeros(iterations)\n",
    "    w_history = np.ones((iterations,5))\n",
    "    lr_history = np.zeros(iterations)\n",
    "\n",
    "    it1=0\n",
    "    diff=1000\n",
    "    # for it in range (iterations):\n",
    "    while it1 < iterations and diff>=treshold:\n",
    "        prediction = np.dot(X,w)\n",
    "        # Compute w and devide the gradient by number of samples (to get the Avg. gradient)\n",
    "        learning_rate,lr_history=exp_decay(it1,lr_history)\n",
    "        w = w -(1/m)*learning_rate*( X.T.dot((prediction - y)))\n",
    "        w_history[it1,:] =w.T\n",
    "        diff=abs(w_history[it1,:]-w_history[it1-1,:]).mean()\n",
    "        cost_history1[it1]  = cal_cost(w,X,y)\n",
    "        it1=it1+1\n",
    "\n",
    "        \n",
    "    return diff,it1,w, cost_history1, w_history,lr_history"
   ]
  },
  {
   "cell_type": "code",
   "execution_count": 148,
   "metadata": {},
   "outputs": [
    {
     "name": "stdout",
     "output_type": "stream",
     "text": [
      "w0: -0.087,\n",
      "w1: 0.579\n",
      "w2: -0.827\n",
      "w3: -1.000\n",
      "w4: -0.591\n",
      "Final cost/RSS:  27541.668\n",
      "iterations:8.000\n",
      "actual_trashold:  0.000\n"
     ]
    }
   ],
   "source": [
    "w = np.random.randn(5,1)\n",
    "\n",
    "X_b = np.c_[np.ones((len(x_train),1)),x_train]\n",
    "update_diff, actual_iterations1,w,cost_history1,w_history,lr_history = grad_descent_with_exp_decay(X_b,y_train,w,n_iter,treshold)\n",
    "\n",
    "# Change the size of the cost and thetha history to fit the number of actual iterations (else- it will fill all other cels in zeros which is not true)\n",
    "cost_history1 = cost_history1[0:actual_iterations1]\n",
    "w_history = w_history[0:actual_iterations1]\n",
    "lr_history=lr_history[0:actual_iterations1]\n",
    "\n",
    "print('w0: {:0.3f},\\nw1: {:0.3f}\\nw2: {:0.3f}\\nw3: {:0.3f}\\nw4: {:0.3f}'.format(w[0][0],w[1][0],w[2][0],w[3][0],w[4][0]))\n",
    "print('Final cost/RSS:  {:0.3f}'.format(cost_history1[-1]))\n",
    "print('iterations:{:0.3f}'.format(actual_iterations1))\n",
    "print('actual_trashold:  {:0.3f}'.format(update_diff))"
   ]
  },
  {
   "cell_type": "code",
   "execution_count": 149,
   "metadata": {},
   "outputs": [
    {
     "data": {
      "text/plain": [
       "Text(0.5, 1.0, 'Iterations:8 , Learning Rate0.0004559409827772581')"
      ]
     },
     "execution_count": 149,
     "metadata": {},
     "output_type": "execute_result"
    },
    {
     "data": {
      "image/png": "[encoded data removed]",
      "text/plain": [
       "<Figure size 432x288 with 1 Axes>"
      ]
     },
     "metadata": {
      "needs_background": "light"
     },
     "output_type": "display_data"
    }
   ],
   "source": [
    "fig,ax = plt.subplots(figsize=(6,4))\n",
    "ax.set_ylabel('Learning rate')\n",
    "ax.set_xlabel('Iterations')\n",
    "ax.plot(range(actual_iterations1),lr_history,'b.')\n",
    "plt.title('Iterations:' +str(actual_iterations1)+' , Learning Rate'+ str(lr_history[actual_iterations1-1]), fontsize=15)\n",
    "\n"
   ]
  },
  {
   "cell_type": "code",
   "execution_count": 150,
   "metadata": {},
   "outputs": [
    {
     "data": {
      "text/plain": [
       "Text(0.5, 1.0, 'Cost function- with Exp Decay learning rate\\n\\nIterations:8 , Cost (RSS): 27542')"
      ]
     },
     "execution_count": 150,
     "metadata": {},
     "output_type": "execute_result"
    },
    {
     "data": {
      "image/png": "[encoded data removed]",
      "text/plain": [
       "<Figure size 432x288 with 1 Axes>"
      ]
     },
     "metadata": {
      "needs_background": "light"
     },
     "output_type": "display_data"
    }
   ],
   "source": [
    "fig,ax = plt.subplots(figsize=(6,4))\n",
    "\n",
    "ax.set_ylabel('Cost')\n",
    "ax.set_xlabel('Iterations')\n",
    "ax.plot(range(actual_iterations1),cost_history1,'b.')\n",
    "plt.title('Cost function- with Exp Decay learning rate\\n\\n'+'Iterations:' +str(actual_iterations1)+' , Cost (RSS): '+ str(round(cost_history1[actual_iterations1-1])), fontsize=15)\n",
    "\n"
   ]
  },
  {
   "cell_type": "markdown",
   "metadata": {},
   "source": [
    "Change #2- Stochastic Gradient Decent"
   ]
  },
  {
   "cell_type": "code",
   "execution_count": 151,
   "metadata": {},
   "outputs": [],
   "source": [
    "def minibatch_gradient_descent(X,y,w,learning_rate,iterations,batch_size,treshold):\n",
    "    m = len(y)\n",
    "    cost_history2 = np.zeros(iterations)\n",
    "    w_history = np.ones((iterations,5))\n",
    "    it2=0\n",
    "    diff=1000\n",
    "    append = np.append(X, y, axis=1)\n",
    "    no_of_batches=m//batch_size\n",
    "\n",
    "    # Need to shuffle the samples before we will devide them to mini batches\n",
    "    np.random.shuffle(append)\n",
    "    X=append[:,0:5]\n",
    "    y=append[:,5:6]\n",
    "    \n",
    "    while it2 < iterations and diff>=treshold:\n",
    "        cost =0.0\n",
    "        for i in range(0,m,batch_size):\n",
    "            X_i = X[i:i+batch_size]\n",
    "            y_i = y[i:i+batch_size]\n",
    "            prediction = np.dot(X_i,w)\n",
    "            w = w -(1/m)*learning_rate*( X_i.T.dot((prediction - y_i)))\n",
    "            cost += cal_cost(w,X_i,y_i)\n",
    "        w_history[it2,:] =w.T\n",
    "        diff=abs(w_history[it2,:]-w_history[it2-1,:]).mean()\n",
    "        cost_history2[it2]  = cost       \n",
    "        it2=it2+1\n",
    "        \n",
    "    return diff,it2,w, cost_history2, w_history\n",
    "\n",
    "        \n"
   ]
  },
  {
   "cell_type": "code",
   "execution_count": 152,
   "metadata": {},
   "outputs": [
    {
     "name": "stdout",
     "output_type": "stream",
     "text": [
      "w0: -0.016,\n",
      "w1: 1.077\n",
      "w2: -2.028\n",
      "w3: 3.021\n",
      "w4: -4.042\n",
      "Final cost/RSS:  7847.477\n",
      "iterations:451.000\n",
      "actual_trashold:  0.000\n"
     ]
    }
   ],
   "source": [
    "w = np.random.randn(5,1)\n",
    "batch_size=1000\n",
    "X_b = np.c_[np.ones((len(x_train),1)),x_train]\n",
    "\n",
    "update_diff, actual_iterations2,w,cost_history2,w_history = minibatch_gradient_descent(X_b,y_train,w,lr,n_iter,batch_size,treshold)\n",
    "\n",
    "\n",
    "# Change the size of the cost and thetha history to fit the number of actual iterations (else- it will fill all other cels in zeros which is not true)\n",
    "cost_history2 = cost_history2[0:actual_iterations2]\n",
    "w_history = w_history[0:actual_iterations2]\n",
    "\n",
    "print('w0: {:0.3f},\\nw1: {:0.3f}\\nw2: {:0.3f}\\nw3: {:0.3f}\\nw4: {:0.3f}'.format(w[0][0],w[1][0],w[2][0],w[3][0],w[4][0]))\n",
    "print('Final cost/RSS:  {:0.3f}'.format(cost_history2[-1]))\n",
    "print('iterations:{:0.3f}'.format(actual_iterations2))\n",
    "print('actual_trashold:  {:0.3f}'.format(update_diff))"
   ]
  },
  {
   "cell_type": "code",
   "execution_count": 153,
   "metadata": {},
   "outputs": [
    {
     "data": {
      "text/plain": [
       "Text(0.5, 1.0, 'Cost function- Stochastic Gradiend Decent\\n\\nIterations:451 , Cost (RSS): 7847')"
      ]
     },
     "execution_count": 153,
     "metadata": {},
     "output_type": "execute_result"
    },
    {
     "data": {
      "image/png": "[encoded data removed]",
      "text/plain": [
       "<Figure size 432x288 with 1 Axes>"
      ]
     },
     "metadata": {
      "needs_background": "light"
     },
     "output_type": "display_data"
    }
   ],
   "source": [
    "fig,ax = plt.subplots(figsize=(6,4))\n",
    "ax.set_ylabel('Cost')\n",
    "ax.set_xlabel('Iterations')\n",
    "ax.plot(range(actual_iterations2),cost_history2,'b.')\n",
    "plt.title('Cost function- Stochastic Gradiend Decent\\n\\n'+'Iterations:' +str(actual_iterations2)+' , Cost (RSS): '+ str(round(cost_history2[actual_iterations2-1])), fontsize=15)\n",
    "\n"
   ]
  },
  {
   "cell_type": "markdown",
   "metadata": {},
   "source": [
    "Change #3- update step will includ Momentum"
   ]
  },
  {
   "cell_type": "code",
   "execution_count": 154,
   "metadata": {},
   "outputs": [],
   "source": [
    "def grad_descent_with_momentum(X,y,w,learning_rate,iterations, treshold, gamma):\n",
    "    m = len(y)\n",
    "    cost_history3 = np.zeros(iterations)\n",
    "    w_history = np.ones((iterations,5))\n",
    "    gm_history = np.zeros(iterations)\n",
    "    delta_w = np.zeros(w.shape)\n",
    "\n",
    "\n",
    "    it3=0\n",
    "    diff=1000\n",
    "    # for it in range (iterations):\n",
    "    while it3 < iterations and diff>=treshold:\n",
    "        prediction = np.dot(X,w)\n",
    "        momentum=gamma*delta_w\n",
    "        # Compute w and devide the gradient by number of samples (to get the Avg. gradient)\n",
    "        # gamma,gm_history=gamma_change(iterations,it1,gm_history)\n",
    "        delta_w = (1/m)*learning_rate*( X.T.dot((prediction - y))) + momentum\n",
    "        w = w-delta_w\n",
    "        # w = w -(1/m)*learning_rate*( X.T.dot((prediction - y)))\n",
    "        w_history[it3,:] =w.T\n",
    "        diff=abs(w_history[it3,:]-w_history[it3-1,:]).mean()\n",
    "        cost_history3[it3]  = cal_cost(w,X,y)\n",
    "        it3=it3+1\n",
    "\n",
    "        \n",
    "    return diff,it3,w, cost_history3, w_history,gamma,gm_history\n"
   ]
  },
  {
   "cell_type": "code",
   "execution_count": 163,
   "metadata": {},
   "outputs": [
    {
     "name": "stdout",
     "output_type": "stream",
     "text": [
      "w0: -0.004,\n",
      "w1: 1.070\n",
      "w2: -2.033\n",
      "w3: 3.016\n",
      "w4: -4.048\n",
      "Final cost/RSS:  7847.611\n",
      "iterations:202.000\n",
      "actual_trashold:  0.000\n"
     ]
    },
    {
     "data": {
      "text/plain": [
       "Text(0.5, 1.0, 'Cost function- learning Rate with momentum (gamma=0.5)\\n\\nIterations:202 , Cost (RSS): 7848')"
      ]
     },
     "execution_count": 163,
     "metadata": {},
     "output_type": "execute_result"
    },
    {
     "data": {
      "image/png": "[encoded data removed]",
      "text/plain": [
       "<Figure size 432x288 with 1 Axes>"
      ]
     },
     "metadata": {
      "needs_background": "light"
     },
     "output_type": "display_data"
    }
   ],
   "source": [
    "# Gamma = 0.5\n",
    "w = np.random.randn(5,1)\n",
    "gamma=0.5\n",
    "\n",
    "X_b = np.c_[np.ones((len(x_train),1)),x_train]\n",
    "update_diff, actual_iterations3,w,cost_history3,w_history,gamma,gm_history = grad_descent_with_momentum(X_b,y_train,w,lr,n_iter,treshold, gamma)\n",
    "\n",
    "# Change the size of the cost and thetha history to fit the number of actual iterations (else- it will fill all other cels in zeros which is not true)\n",
    "cost_history3 = cost_history3[0:actual_iterations3]\n",
    "w_history = w_history[0:actual_iterations3]\n",
    "gm_history=gm_history[0:actual_iterations1]\n",
    "\n",
    "print('w0: {:0.3f},\\nw1: {:0.3f}\\nw2: {:0.3f}\\nw3: {:0.3f}\\nw4: {:0.3f}'.format(w[0][0],w[1][0],w[2][0],w[3][0],w[4][0]))\n",
    "print('Final cost/RSS:  {:0.3f}'.format(cost_history3[-1]))\n",
    "print('iterations:{:0.3f}'.format(actual_iterations3))\n",
    "print('actual_trashold:  {:0.3f}'.format(update_diff))\n",
    "\n",
    "fig,ax = plt.subplots(figsize=(6,4))\n",
    "ax.set_ylabel('Cost')\n",
    "ax.set_xlabel('Iterations')\n",
    "ax.plot(range(actual_iterations3),cost_history3,'b.')\n",
    "plt.title('Cost function- learning Rate with momentum (gamma=0.5)\\n\\n'+'Iterations:' +str(actual_iterations3)+' , Cost (RSS): '+ str(round(cost_history3[actual_iterations3-1])), fontsize=15)"
   ]
  },
  {
   "cell_type": "code",
   "execution_count": 164,
   "metadata": {},
   "outputs": [
    {
     "name": "stdout",
     "output_type": "stream",
     "text": [
      "w0: -0.001,\n",
      "w1: 1.071\n",
      "w2: -2.036\n",
      "w3: 3.016\n",
      "w4: -4.052\n",
      "Final cost/RSS:  7847.568\n",
      "iterations:166.000\n",
      "actual_trashold:  0.000\n"
     ]
    },
    {
     "data": {
      "text/plain": [
       "Text(0.5, 1.0, 'Cost function- learning Rate with momentum (gamma=0.7)\\n\\nIterations:166 , Cost (RSS): 7848')"
      ]
     },
     "execution_count": 164,
     "metadata": {},
     "output_type": "execute_result"
    },
    {
     "data": {
      "image/png": "[encoded data removed]",
      "text/plain": [
       "<Figure size 432x288 with 1 Axes>"
      ]
     },
     "metadata": {
      "needs_background": "light"
     },
     "output_type": "display_data"
    }
   ],
   "source": [
    "# Gamma = 0.7\n",
    "w = np.random.randn(5,1)\n",
    "gamma=0.7\n",
    "\n",
    "X_b = np.c_[np.ones((len(x_train),1)),x_train]\n",
    "update_diff, actual_iterations3,w,cost_history3,w_history,gamma,gm_history = grad_descent_with_momentum(X_b,y_train,w,lr,n_iter,treshold, gamma)\n",
    "\n",
    "# Change the size of the cost and thetha history to fit the number of actual iterations (else- it will fill all other cels in zeros which is not true)\n",
    "cost_history3 = cost_history3[0:actual_iterations3]\n",
    "w_history = w_history[0:actual_iterations3]\n",
    "gm_history=gm_history[0:actual_iterations1]\n",
    "\n",
    "print('w0: {:0.3f},\\nw1: {:0.3f}\\nw2: {:0.3f}\\nw3: {:0.3f}\\nw4: {:0.3f}'.format(w[0][0],w[1][0],w[2][0],w[3][0],w[4][0]))\n",
    "print('Final cost/RSS:  {:0.3f}'.format(cost_history3[-1]))\n",
    "print('iterations:{:0.3f}'.format(actual_iterations3))\n",
    "print('actual_trashold:  {:0.3f}'.format(update_diff))\n",
    "\n",
    "fig,ax = plt.subplots(figsize=(6,4))\n",
    "ax.set_ylabel('Cost')\n",
    "ax.set_xlabel('Iterations')\n",
    "ax.plot(range(actual_iterations3),cost_history3,'b.')\n",
    "plt.title('Cost function- learning Rate with momentum (gamma=0.7)\\n\\n'+'Iterations:' +str(actual_iterations3)+' , Cost (RSS): '+ str(round(cost_history3[actual_iterations3-1])), fontsize=15)\n",
    "\n"
   ]
  },
  {
   "cell_type": "code",
   "execution_count": 165,
   "metadata": {},
   "outputs": [
    {
     "name": "stdout",
     "output_type": "stream",
     "text": [
      "w0: 0.006,\n",
      "w1: 1.070\n",
      "w2: -2.041\n",
      "w3: 3.016\n",
      "w4: -4.058\n",
      "Final cost/RSS:  7847.575\n",
      "iterations:132.000\n",
      "actual_trashold:  0.000\n"
     ]
    },
    {
     "data": {
      "text/plain": [
       "Text(0.5, 1.0, 'Cost function- learning Rate with momentum (gamma=0.9)\\n\\nIterations:132 , Cost (RSS): 7848')"
      ]
     },
     "execution_count": 165,
     "metadata": {},
     "output_type": "execute_result"
    },
    {
     "data": {
      "image/png": "[encoded data removed]",
      "text/plain": [
       "<Figure size 432x288 with 1 Axes>"
      ]
     },
     "metadata": {
      "needs_background": "light"
     },
     "output_type": "display_data"
    }
   ],
   "source": [
    "# Gamma = 0.9\n",
    "w = np.random.randn(5,1)\n",
    "gamma=0.9\n",
    "\n",
    "X_b = np.c_[np.ones((len(x_train),1)),x_train]\n",
    "update_diff, actual_iterations3,w,cost_history3,w_history,gamma,gm_history = grad_descent_with_momentum(X_b,y_train,w,lr,n_iter,treshold, gamma)\n",
    "\n",
    "# Change the size of the cost and thetha history to fit the number of actual iterations (else- it will fill all other cels in zeros which is not true)\n",
    "cost_history3 = cost_history3[0:actual_iterations3]\n",
    "w_history = w_history[0:actual_iterations3]\n",
    "gm_history=gm_history[0:actual_iterations1]\n",
    "\n",
    "print('w0: {:0.3f},\\nw1: {:0.3f}\\nw2: {:0.3f}\\nw3: {:0.3f}\\nw4: {:0.3f}'.format(w[0][0],w[1][0],w[2][0],w[3][0],w[4][0]))\n",
    "print('Final cost/RSS:  {:0.3f}'.format(cost_history3[-1]))\n",
    "print('iterations:{:0.3f}'.format(actual_iterations3))\n",
    "print('actual_trashold:  {:0.3f}'.format(update_diff))\n",
    "\n",
    "fig,ax = plt.subplots(figsize=(6,4))\n",
    "ax.set_ylabel('Cost')\n",
    "ax.set_xlabel('Iterations')\n",
    "ax.plot(range(actual_iterations3),cost_history3,'b.')\n",
    "plt.title('Cost function- learning Rate with momentum (gamma=0.9)\\n\\n'+'Iterations:' +str(actual_iterations3)+' , Cost (RSS): '+ str(round(cost_history3[actual_iterations3-1])), fontsize=15)\n",
    "\n"
   ]
  },
  {
   "cell_type": "code",
   "execution_count": 162,
   "metadata": {},
   "outputs": [
    {
     "name": "stdout",
     "output_type": "stream",
     "text": [
      "Model:\n",
      "Final cost/RSS- GD:  7847.790\n",
      "iterations- GD:396.000\n",
      "\n",
      "\n",
      "Final cost/RSS- GD with Exp_decay:  27541.668\n",
      "iterations- GD with Exp_decay\n",
      "\n",
      ":8.000\n",
      "Final cost/RSS- SGD:  7847.477\n",
      "iterations- SGD:451.000\n",
      "\n",
      "\n",
      "Final cost/RSS- GD with momentum:  7847.558\n",
      "iterations- GD with momentum:151.000\n",
      "\n",
      "\n"
     ]
    }
   ],
   "source": [
    "print('Model:')\n",
    "\n",
    "print('Final cost/RSS- GD:  {:0.3f}'.format(cost_history[-1]))\n",
    "print('iterations- GD:{:0.3f}\\n\\n'.format(actual_iterations))\n",
    "\n",
    "print('Final cost/RSS- GD with Exp_decay:  {:0.3f}'.format(cost_history1[-1]))\n",
    "print('iterations- GD with Exp_decay\\n\\n:{:0.3f}'.format(actual_iterations1))\n",
    "\n",
    "print('Final cost/RSS- SGD:  {:0.3f}'.format(cost_history2[-1]))\n",
    "print('iterations- SGD:{:0.3f}\\n\\n'.format(actual_iterations2))\n",
    "\n",
    "print('Final cost/RSS- GD with momentum:  {:0.3f}'.format(cost_history3[-1]))\n",
    "print('iterations- GD with momentum:{:0.3f}\\n\\n'.format(actual_iterations3))\n",
    "\n"
   ]
  }
 ],
 "metadata": {
  "kernelspec": {
   "display_name": "Python 3.10.4 ('thesis')",
   "language": "python",
   "name": "python3"
  },
  "language_info": {
   "codemirror_mode": {
    "name": "ipython",
    "version": 3
   },
   "file_extension": ".py",
   "mimetype": "text/x-python",
   "name": "python",
   "nbconvert_exporter": "python",
   "pygments_lexer": "ipython3",
   "version": "3.10.4"
  },
  "orig_nbformat": 4,
  "vscode": {
   "interpreter": {
    "hash": "cab0637fa93a1ed530ea609dcc75c448af6788ee52186a59d57541527b4d7e69"
   }
  }
 },
 "nbformat": 4,
 "nbformat_minor": 2
}
